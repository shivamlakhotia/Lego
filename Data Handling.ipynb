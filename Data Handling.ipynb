{
 "cells": [
  {
   "cell_type": "markdown",
   "metadata": {},
   "source": [
    "# Shuffling Dataset"
   ]
  },
  {
   "cell_type": "code",
   "execution_count": null,
   "metadata": {},
   "outputs": [],
   "source": [
    "Xy = list(zip(X,y))\n",
    "random.shuffle(Xy)\n",
    "X = [d[0] for d in Xy]\n",
    "y = [d[1] for d in Xy]"
   ]
  },
  {
   "cell_type": "markdown",
   "metadata": {},
   "source": [
    "# Handling Strings"
   ]
  },
  {
   "cell_type": "code",
   "execution_count": null,
   "metadata": {},
   "outputs": [],
   "source": [
    "# From Julian McAuley's lecture notebook\n",
    "\n",
    "# Removing the punctuations\n",
    "t = \"somestring\"\n",
    "t = t.lower() # lowercase string\n",
    "t = [c for c in t if not (c in punct)] # non-punct characters\n",
    "t = ''.join(t) # convert back to string\n",
    "words = t.strip().split() # tokenizes"
   ]
  }
 ],
 "metadata": {
  "kernelspec": {
   "display_name": "Python 3",
   "language": "python",
   "name": "python3"
  },
  "language_info": {
   "codemirror_mode": {
    "name": "ipython",
    "version": 3
   },
   "file_extension": ".py",
   "mimetype": "text/x-python",
   "name": "python",
   "nbconvert_exporter": "python",
   "pygments_lexer": "ipython3",
   "version": "3.7.4"
  }
 },
 "nbformat": 4,
 "nbformat_minor": 2
}
