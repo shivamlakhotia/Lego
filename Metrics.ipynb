{
 "cells": [
  {
   "cell_type": "markdown",
   "metadata": {},
   "source": [
    "# Metrics"
   ]
  },
  {
   "cell_type": "markdown",
   "metadata": {},
   "source": [
    "## BER"
   ]
  },
  {
   "cell_type": "code",
   "execution_count": null,
   "metadata": {},
   "outputs": [],
   "source": [
    "correct = pred == labels\n",
    "\n",
    "TP_ = np.logical_and(pred, labels)\n",
    "FP_ = np.logical_and(pred, np.logical_not(labels))\n",
    "TN_ = np.logical_and(np.logical_not(pred), np.logical_not(labels))\n",
    "FN_ = np.logical_and(np.logical_not(pred), labels)\n",
    "\n",
    "TP = sum(TP_)\n",
    "FP = sum(FP_)\n",
    "TN = sum(TN_)\n",
    "FN = sum(FN_)\n",
    "\n",
    "# accuracy\n",
    "print(\"Accuracy: \" + str(sum(correct) / len(correct)))\n",
    "\n",
    "# BER\n",
    "print(\"BER: \" + str(1 - 0.5 * (TP / (TP + FN) + TN / (TN + FP))))"
   ]
  }
 ],
 "metadata": {
  "kernelspec": {
   "display_name": "Python 3",
   "language": "python",
   "name": "python3"
  },
  "language_info": {
   "codemirror_mode": {
    "name": "ipython",
    "version": 3
   },
   "file_extension": ".py",
   "mimetype": "text/x-python",
   "name": "python",
   "nbconvert_exporter": "python",
   "pygments_lexer": "ipython3",
   "version": "3.7.4"
  }
 },
 "nbformat": 4,
 "nbformat_minor": 2
}
