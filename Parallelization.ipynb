{
 "cells": [
  {
   "cell_type": "markdown",
   "metadata": {},
   "source": [
    "# Multithreading on CPU"
   ]
  },
  {
   "cell_type": "markdown",
   "metadata": {},
   "source": [
    "## Basic sync"
   ]
  },
  {
   "cell_type": "code",
   "execution_count": null,
   "metadata": {},
   "outputs": [],
   "source": [
    "from multiprocessing import Pool"
   ]
  },
  {
   "cell_type": "code",
   "execution_count": null,
   "metadata": {},
   "outputs": [],
   "source": [
    "def task(x):\n",
    "    return x+\"s\""
   ]
  },
  {
   "cell_type": "code",
   "execution_count": null,
   "metadata": {},
   "outputs": [],
   "source": [
    "input = [\"list\", \"of\", \"item\"]\n",
    "with Pool(2) as p:\n",
    "    result = p.map(task, input)\n",
    "\n",
    "print(result)"
   ]
  },
  {
   "cell_type": "markdown",
   "metadata": {},
   "source": [
    "## Basic async with tqdm bar"
   ]
  },
  {
   "cell_type": "code",
   "execution_count": null,
   "metadata": {},
   "outputs": [],
   "source": [
    "from multiprocessing import Pool\n",
    "from tqdm import tqdm \n",
    "import time\n",
    "import random\n",
    "\n",
    "def task(x):\n",
    "    time.sleep(random.random())\n",
    "    return x+\"s\"\n",
    "\n",
    "pool = Pool(3)\n",
    "\n",
    "input = [\"list\", \"of\", \"item\"]\n",
    "result = []\n",
    "pbar = tqdm(total=len(input))\n",
    "\n",
    "def update(a):\n",
    "    pbar.update()\n",
    "    result.append(a)\n",
    "\n",
    "for i in range(len(input)):\n",
    "    pool.apply_async(task, args=(input[i],), callback=update)\n",
    "\n",
    "pool.close()\n",
    "pool.join()\n",
    "\n",
    "print(result)"
   ]
  }
 ],
 "metadata": {
  "language_info": {
   "codemirror_mode": {
    "name": "ipython",
    "version": 2
   },
   "file_extension": ".py",
   "mimetype": "text/x-python",
   "name": "python",
   "nbconvert_exporter": "python",
   "pygments_lexer": "ipython2",
   "version": "3.7.4-final"
  },
  "orig_nbformat": 2,
  "kernelspec": {
   "name": "python37464bit45fa4765c49b46cfa07dc9fb2bed6b58",
   "display_name": "Python 3.7.4 64-bit"
  }
 },
 "nbformat": 4,
 "nbformat_minor": 2
}